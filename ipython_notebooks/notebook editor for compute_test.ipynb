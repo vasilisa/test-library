{
  "metadata": {
    "kernelspec": {
      "name": "python3",
      "display_name": "Python 3",
      "language": "python"
    },
    "associatedRecipe": "compute_test",
    "creator": "admin",
    "createdOn": 1656087967884,
    "tags": [
      "recipe-editor"
    ],
    "customFields": {},
    "hide_input": false,
    "language_info": {
      "name": "python",
      "version": "3.6.15",
      "mimetype": "text/x-python",
      "codemirror_mode": {
        "name": "ipython",
        "version": 3
      },
      "pygments_lexer": "ipython3",
      "nbconvert_exporter": "python",
      "file_extension": ".py"
    },
    "modifiedBy": "admin"
  },
  "nbformat": 4,
  "nbformat_minor": 1,
  "cells": [
    {
      "execution_count": 4,
      "cell_type": "code",
      "metadata": {},
      "source": [
        "# -*- coding: utf-8 -*-\nimport dataiku\nimport pandas as pd, numpy as np\nfrom dataiku import pandasutils as pdu\n\n# create an empty dataset with ID column \n\n# dummy_data \u003d pd.DataFrame(np.random.rand(100, 10))\n# dummy_data[\u0027Id\u0027] \u003d list(range(10))*10\n\n# # save it to the dataframe \n# test_ds \u003d dataiku.Dataset(\"test\")\n# test_ds.write_with_schema(dummy_data)\n"
      ],
      "outputs": [
        {
          "output_type": "stream",
          "text": "100 rows successfully written (JVfSJvFgLz)\n",
          "name": "stdout"
        }
      ]
    },
    {
      "execution_count": 0,
      "cell_type": "code",
      "metadata": {},
      "source": [
        "# -------------------------------------------------------------------------------- NOTEBOOK-CELL: CODE\n# for some of the IDs we want to replace the content \nfor i in range(5):\n\n#    tmp \u003d dummy_data[dummy_data[\u0027Id\u0027] \u003d\u003d i] * i\n    tmp \u003d np.round(dummy_data[dummy_data[\u0027Id\u0027] \u003d\u003d i] * (i+1000))\n\n    with dataiku.Dataset(\"test\").get_writer() as writer:\n\n        for (origin,count) in tmp.items():\n            print(count)\n\n            writer.write_row_array((origin,count))\n\n"
      ],
      "outputs": []
    }
  ]
}