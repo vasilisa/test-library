{
  "nbformat": 4,
  "nbformat_minor": 0,
  "metadata": {
    "kernelspec": {
      "display_name": "Python 3",
      "language": "python",
      "name": "python3"
    },
    "associatedRecipe": "compute_test",
    "dkuGit": {
      "lastInteraction": 0
    },
    "creationTag": {
      "versionNumber": 0,
      "lastModifiedBy": {
        "login": "admin"
      },
      "lastModifiedOn": 1656087967884
    },
    "creator": "admin",
    "createdOn": 1656087967884,
    "tags": [
      "recipe-editor"
    ],
    "customFields": {}
  },
  "cells": [
    {
      "cell_type": "code",
      "metadata": {},
      "outputs": [],
      "execution_count": 0,
      "source": [
        "# -*- coding: utf-8 -*-\n",
        "import dataiku\n",
        "import pandas as pd, numpy as np\n",
        "from dataiku import pandasutils as pdu\n",
        "\n",
        "# create an empty dataset with ID column\n",
        "\n",
        "# dummy_data \u003d pd.DataFrame(np.random.rand(100, 10))\n",
        "# dummy_data[\u0027Id\u0027] \u003d list(range(10))*10\n",
        "\n",
        "# # # save it to the dataframe\n",
        "# inp \u003d dataiku.Dataset(\"test\")\n",
        "# inp.write_with_schema(dummy_data)"
      ]
    },
    {
      "cell_type": "code",
      "metadata": {},
      "outputs": [],
      "execution_count": 0,
      "source": [
        "# Read recipe inputs and take the input schema to output dataset\n",
        "\n",
        "inp \u003d dataiku.Dataset(\"test\")\n",
        "out \u003d dataiku.Dataset(\"output\")\n",
        "out.write_schema_from_dataframe(inp.get_dataframe())"
      ]
    },
    {
      "cell_type": "code",
      "metadata": {},
      "outputs": [],
      "execution_count": 0,
      "source": [
        "with out.get_writer() as writer:\n",
        "    for df in inp.iter_dataframes(chunksize\u003d10):\n",
        "\n",
        "        # Make some changes for the columns in the chunk\n",
        "        tmp \u003d df\n",
        "        tmp[\u0027Id\u0027] \u003d tmp[\u0027Id\u0027]+1000\n",
        "        tmp.iloc[0:10] \u003d np.round(tmp.iloc[0:10] )\n",
        "\n",
        "        print(tmp.head())\n",
        "        writer.write_dataframe(tmp)"
      ]
    },
    {
      "cell_type": "code",
      "metadata": {},
      "outputs": [],
      "execution_count": 0,
      "source": [
        "# for some of the IDs we want to replace the content\n",
        "# for i in range(5):\n",
        "\n",
        "# #    tmp \u003d dummy_data[dummy_data[\u0027Id\u0027] \u003d\u003d i] * i\n",
        "#     tmp \u003d np.round(dummy_data[dummy_data[\u0027Id\u0027] \u003d\u003d i] * (i+1000))\n",
        "\n",
        "#     with dataiku.Dataset(\"test\").get_writer() as writer:\n",
        "\n",
        "#         for (origin,count) in tmp.items():\n",
        "#             print(count)\n",
        "\n",
        "#             writer.write_row_array((origin,count))"
      ]
    }
  ]
}