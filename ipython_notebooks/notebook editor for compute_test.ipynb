{
  "metadata": {
    "kernelspec": {
      "name": "python3",
      "display_name": "Python 3",
      "language": "python"
    },
    "associatedRecipe": "compute_test",
    "dkuGit": {
      "lastInteraction": 0
    },
    "creationTag": {
      "versionNumber": 0,
      "lastModifiedBy": {
        "login": "admin"
      },
      "lastModifiedOn": 1656087967884
    },
    "creator": "admin",
    "createdOn": 1656087967884,
    "tags": [
      "recipe-editor"
    ],
    "customFields": {},
    "hide_input": false,
    "language_info": {
      "name": "python",
      "version": "3.6.15",
      "mimetype": "text/x-python",
      "codemirror_mode": {
        "name": "ipython",
        "version": 3
      },
      "pygments_lexer": "ipython3",
      "nbconvert_exporter": "python",
      "file_extension": ".py"
    },
    "modifiedBy": "admin"
  },
  "nbformat": 4,
  "nbformat_minor": 1,
  "cells": [
    {
      "execution_count": 32,
      "cell_type": "code",
      "metadata": {},
      "source": [
        "# -*- coding: utf-8 -*-\nimport dataiku\nimport pandas as pd, numpy as np\nfrom dataiku import pandasutils as pdu\n\nclient \u003d dataiku.api_client()\nproject \u003d client.get_project(\u0027INCREMENTDATA\u0027)\n"
      ],
      "outputs": []
    },
    {
      "execution_count": 33,
      "cell_type": "code",
      "metadata": {},
      "source": [
        "# Read recipe inputs and take the input schema to output dataset\n\ninp \u003d dataiku.Dataset(\"input\")\nout \u003d dataiku.Dataset(\"output\")\nout.write_schema_from_dataframe(inp.get_dataframe())\n\ndo_clear \u003d True # clear the content of the output dataset if needed \n\n\nif do_clear: \n    dataset \u003d project.get_dataset(\u0027output\u0027)\n    dataset.clear()                                                                                         # clears all partitions\n"
      ],
      "outputs": []
    },
    {
      "execution_count": 31,
      "cell_type": "code",
      "metadata": {},
      "source": [
        "\n"
      ],
      "outputs": []
    },
    {
      "execution_count": 0,
      "cell_type": "code",
      "metadata": {},
      "source": [
        "count \u003d 0\nwith out.get_writer() as writer:\n\n    for df in inp.iter_dataframes(chunksize\u003d10): # access the input dataset in the chunks of 10 rows\n        count +\u003d 1\n        print(count)\n        # Make some changes for the columns in the chunk\n        tmp \u003d df.copy()\n        tmp[\u0027Id\u0027] \u003d tmp[\u0027Id\u0027]+1000 # increment the Id by 1000\n        tmp.iloc[0:10] \u003d np.round(tmp.iloc[0:10] )\n\n#          print(tmp.head())\n        writer.write_dataframe(tmp)"
      ],
      "outputs": []
    }
  ]
}