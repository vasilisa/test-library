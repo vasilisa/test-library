{
  "metadata": {
    "kernelspec": {
      "name": "python3",
      "display_name": "Python 3",
      "language": "python"
    },
    "associatedRecipe": "compute_test",
    "creator": "admin",
    "createdOn": 1656087967884,
    "tags": [
      "recipe-editor"
    ],
    "customFields": {},
    "hide_input": false,
    "language_info": {
      "name": "python",
      "version": "3.6.15",
      "mimetype": "text/x-python",
      "codemirror_mode": {
        "name": "ipython",
        "version": 3
      },
      "pygments_lexer": "ipython3",
      "nbconvert_exporter": "python",
      "file_extension": ".py"
    },
    "modifiedBy": "admin"
  },
  "nbformat": 4,
  "nbformat_minor": 1,
  "cells": [
    {
      "execution_count": 6,
      "cell_type": "code",
      "metadata": {},
      "source": [
        "# -*- coding: utf-8 -*-\nimport dataiku\nimport pandas as pd, numpy as np\nfrom dataiku import pandasutils as pdu\n\n# create an empty dataset with ID column \n\n# dummy_data \u003d pd.DataFrame(np.random.rand(100, 10))\n# dummy_data[\u0027Id\u0027] \u003d list(range(10))*10\n\n# # # save it to the dataframe \n# inp \u003d dataiku.Dataset(\"test\")\n# inp.write_with_schema(dummy_data)\n"
      ],
      "outputs": [
        {
          "output_type": "stream",
          "text": "100 rows successfully written (LDPzkLgYTp)\n",
          "name": "stdout"
        }
      ]
    },
    {
      "execution_count": 7,
      "cell_type": "code",
      "metadata": {},
      "source": [
        "# Read recipe inputs and take the input schema to output dataset \n\ninp \u003d dataiku.Dataset(\"test\")\nout \u003d dataiku.Dataset(\"output\")\nout.write_schema_from_dataframe(inp.get_dataframe())\n"
      ],
      "outputs": []
    },
    {
      "execution_count": 0,
      "cell_type": "code",
      "metadata": {},
      "source": [
        "for df in inp.iter_dataframes(chunksize\u003d10):\n    "
      ],
      "outputs": []
    },
    {
      "execution_count": 0,
      "cell_type": "code",
      "metadata": {},
      "source": [
        "\nwith out.get_writer() as writer:\n    for df in inp.iter_dataframes(chunksize\u003d10):\n        \n        print(df.head())\n        # Write the processed dataframe\n        for i in range(10):\n            tmp \u003d np.round(df[df[\u0027Id\u0027] \u003d\u003d i] * (i+1000))\n\n        writer.write_dataframe(df)\n"
      ],
      "outputs": []
    },
    {
      "execution_count": 5,
      "cell_type": "code",
      "metadata": {},
      "source": [
        "# -------------------------------------------------------------------------------- NOTEBOOK-CELL: CODE\n# for some of the IDs we want to replace the content \nfor i in range(5):\n\n#    tmp \u003d dummy_data[dummy_data[\u0027Id\u0027] \u003d\u003d i] * i\n    tmp \u003d np.round(dummy_data[dummy_data[\u0027Id\u0027] \u003d\u003d i] * (i+1000))\n\n    with dataiku.Dataset(\"test\").get_writer() as writer:\n\n        for (origin,count) in tmp.items():\n            print(count)\n\n            writer.write_row_array((origin,count))\n\n"
      ],
      "outputs": [
        {
          "output_type": "stream",
          "text": "0     543.0\n10    598.0\n20    440.0\n30    463.0\n40    400.0\n50    944.0\n60    266.0\n70    910.0\n80    748.0\n90    172.0\nName: 0, dtype: float64\n0     427.0\n10    550.0\n20    468.0\n30    601.0\n40    313.0\n50    959.0\n60    361.0\n70    850.0\n80    232.0\n90    119.0\nName: 1, dtype: float64\n0     825.0\n10    719.0\n20     65.0\n30    123.0\n40    594.0\n50     79.0\n60    559.0\n70    603.0\n80    971.0\n90    513.0\nName: 2, dtype: float64\n0     829.0\n10    360.0\n20    324.0\n30     49.0\n40    736.0\n50    969.0\n60    818.0\n70    771.0\n80    253.0\n90    802.0\nName: 3, dtype: float64\n0     103.0\n10    950.0\n20    652.0\n30    834.0\n40    363.0\n50    685.0\n60    537.0\n70    665.0\n80    288.0\n90    541.0\nName: 4, dtype: float64\n0     184.0\n10    711.0\n20     81.0\n30    678.0\n40    356.0\n50    475.0\n60     41.0\n70     19.0\n80    675.0\n90    933.0\nName: 5, dtype: float64\n0     800.0\n10    111.0\n20    909.0\n30    592.0\n40    415.0\n50     89.0\n60    604.0\n70    748.0\n80    792.0\n90    729.0\nName: 6, dtype: float64\n0     891.0\n10    784.0\n20    213.0\n30     92.0\n40    571.0\n50    623.0\n60     85.0\n70    393.0\n80    322.0\n90    236.0\nName: 7, dtype: float64\n0     414.0\n10    733.0\n20    100.0\n30    721.0\n40    761.0\n50    913.0\n60    351.0\n70    439.0\n80    611.0\n90    838.0\nName: 8, dtype: float64\n0     341.0\n10    913.0\n20    745.0\n30    546.0\n40    180.0\n50    111.0\n60    456.0\n70    723.0\n80    320.0\n90    278.0\nName: 9, dtype: float64\n0     0\n10    0\n20    0\n30    0\n40    0\n50    0\n60    0\n70    0\n80    0\n90    0\nName: Id, dtype: int64\n11 rows successfully written (KFNmPhlkMO)\n1     244.0\n11     31.0\n21    509.0\n31     44.0\n41    179.0\n51    802.0\n61    985.0\n71    891.0\n81    589.0\n91    902.0\nName: 0, dtype: float64\n1     588.0\n11    188.0\n21    983.0\n31    546.0\n41    695.0\n51    889.0\n61    272.0\n71    457.0\n81    263.0\n91    486.0\nName: 1, dtype: float64\n1     406.0\n11    397.0\n21    498.0\n31    151.0\n41    887.0\n51    358.0\n61    547.0\n71    535.0\n81    554.0\n91    559.0\nName: 2, dtype: float64\n1     903.0\n11    885.0\n21    825.0\n31    268.0\n41    255.0\n51    806.0\n61    722.0\n71    940.0\n81    611.0\n91    506.0\nName: 3, dtype: float64\n1     986.0\n11    974.0\n21    703.0\n31    978.0\n41    938.0\n51    892.0\n61    133.0\n71    564.0\n81    881.0\n91    706.0\nName: 4, dtype: float64\n1     273.0\n11    539.0\n21    382.0\n31    965.0\n41    490.0\n51    451.0\n61    777.0\n71    378.0\n81    808.0\n91    379.0\nName: 5, dtype: float64\n1     245.0\n11      8.0\n21    521.0\n31    805.0\n41    271.0\n51    141.0\n61    411.0\n71    506.0\n81    270.0\n91    732.0\nName: 6, dtype: float64\n1     623.0\n11    713.0\n21    554.0\n31    156.0\n41    589.0\n51    723.0\n61    744.0\n71    615.0\n81    280.0\n91    568.0\nName: 7, dtype: float64\n1     669.0\n11    501.0\n21    953.0\n31     22.0\n41    248.0\n51    419.0\n61    378.0\n71    244.0\n81    120.0\n91    887.0\nName: 8, dtype: float64\n1     180.0\n11    613.0\n21    644.0\n31    606.0\n41    729.0\n51    385.0\n61    759.0\n71      3.0\n81    123.0\n91    306.0\nName: 9, dtype: float64\n1     1001\n11    1001\n21    1001\n31    1001\n41    1001\n51    1001\n61    1001\n71    1001\n81    1001\n91    1001\nName: Id, dtype: int64\n11 rows successfully written (URMJQrE0pY)\n2      21.0\n12    592.0\n22    439.0\n32     35.0\n42     26.0\n52     54.0\n62    154.0\n72     79.0\n82    123.0\n92    208.0\nName: 0, dtype: float64\n2      72.0\n12    748.0\n22    998.0\n32    825.0\n42    802.0\n52    356.0\n62    108.0\n72    762.0\n82    833.0\n92    544.0\nName: 1, dtype: float64\n2     494.0\n12     14.0\n22    717.0\n32    562.0\n42    790.0\n52    633.0\n62    720.0\n72    397.0\n82    772.0\n92    349.0\nName: 2, dtype: float64\n2     659.0\n12    805.0\n22    326.0\n32    799.0\n42    479.0\n52    789.0\n62    902.0\n72    192.0\n82    161.0\n92    547.0\nName: 3, dtype: float64\n2     686.0\n12    620.0\n22    127.0\n32    565.0\n42    654.0\n52    334.0\n62    538.0\n72    413.0\n82    143.0\n92    178.0\nName: 4, dtype: float64\n2      72.0\n12    790.0\n22     60.0\n32    421.0\n42    690.0\n52    159.0\n62    142.0\n72    486.0\n82    438.0\n92    853.0\nName: 5, dtype: float64\n2     108.0\n12    734.0\n22    271.0\n32    538.0\n42    900.0\n52    271.0\n62     15.0\n72    960.0\n82    728.0\n92    387.0\nName: 6, dtype: float64\n2     724.0\n12    306.0\n22    262.0\n32    300.0\n42    113.0\n52    799.0\n62    258.0\n72    479.0\n82    447.0\n92     28.0\nName: 7, dtype: float64\n2     539.0\n12    616.0\n22    443.0\n32    488.0\n42    832.0\n52    226.0\n62    329.0\n72    157.0\n82    289.0\n92    413.0\nName: 8, dtype: float64\n2     511.0\n12    143.0\n22    948.0\n32    482.0\n42    848.0\n52    902.0\n62    135.0\n72    338.0\n82    460.0\n92    456.0\nName: 9, dtype: float64\n2     2004\n12    2004\n22    2004\n32    2004\n42    2004\n52    2004\n62    2004\n72    2004\n82    2004\n92    2004\nName: Id, dtype: int64\n11 rows successfully written (F9J37304YO)\n3     647.0\n13      8.0\n23    139.0\n33    504.0\n43    117.0\n53    999.0\n63    407.0\n73    487.0\n83    340.0\n93    407.0\nName: 0, dtype: float64\n3     345.0\n13    672.0\n23    620.0\n33     86.0\n43    634.0\n53    321.0\n63    862.0\n73    556.0\n83    605.0\n93    343.0\nName: 1, dtype: float64\n3     277.0\n13    869.0\n23     27.0\n33    274.0\n43    745.0\n53    596.0\n63    228.0\n73    128.0\n83    572.0\n93    901.0\nName: 2, dtype: float64\n3     658.0\n13    496.0\n23     47.0\n33    806.0\n43    508.0\n53    738.0\n63    116.0\n73    307.0\n83    359.0\n93    692.0\nName: 3, dtype: float64\n3     709.0\n13    436.0\n23    455.0\n33    734.0\n43    724.0\n53    913.0\n63    215.0\n73    579.0\n83    240.0\n93    299.0\nName: 4, dtype: float64\n3     307.0\n13    767.0\n23    616.0\n33    721.0\n43    551.0\n53    666.0\n63    993.0\n73    316.0\n83    567.0\n93    532.0\nName: 5, dtype: float64\n3      92.0\n13    552.0\n23    128.0\n33    879.0\n43    476.0\n53    158.0\n63    373.0\n73    547.0\n83    256.0\n93    413.0\nName: 6, dtype: float64\n3     390.0\n13    771.0\n23    742.0\n33    181.0\n43    584.0\n53    866.0\n63    157.0\n73    391.0\n83    134.0\n93    214.0\nName: 7, dtype: float64\n3      884.0\n13      26.0\n23     436.0\n33     125.0\n43     499.0\n53     531.0\n63     148.0\n73     606.0\n83    1002.0\n93     328.0\nName: 8, dtype: float64\n3     213.0\n13    663.0\n23    937.0\n33    378.0\n43    432.0\n53    498.0\n63    150.0\n73    111.0\n83    705.0\n93    789.0\nName: 9, dtype: float64\n3     3009\n13    3009\n23    3009\n33    3009\n43    3009\n53    3009\n63    3009\n73    3009\n83    3009\n93    3009\nName: Id, dtype: int64\n11 rows successfully written (ZQ1MFb8FNv)\n4     616.0\n14    918.0\n24    360.0\n34    590.0\n44    510.0\n54    656.0\n64    251.0\n74    214.0\n84     35.0\n94    298.0\nName: 0, dtype: float64\n4     148.0\n14     54.0\n24    570.0\n34    660.0\n44    210.0\n54    604.0\n64    444.0\n74    386.0\n84    146.0\n94    711.0\nName: 1, dtype: float64\n4     844.0\n14    444.0\n24     87.0\n34    410.0\n44    638.0\n54    717.0\n64     39.0\n74    579.0\n84    436.0\n94    438.0\nName: 2, dtype: float64\n4     570.0\n14    153.0\n24    349.0\n34    759.0\n44    379.0\n54    774.0\n64    719.0\n74    776.0\n84    256.0\n94    191.0\nName: 3, dtype: float64\n4     923.0\n14     22.0\n24     78.0\n34    590.0\n44    596.0\n54    781.0\n64    514.0\n74    304.0\n84     41.0\n94    206.0\nName: 4, dtype: float64\n4     384.0\n14    480.0\n24    752.0\n34    679.0\n44    587.0\n54    510.0\n64    903.0\n74    663.0\n84    917.0\n94    921.0\nName: 5, dtype: float64\n4     199.0\n14    702.0\n24    623.0\n34    781.0\n44    431.0\n54    299.0\n64    170.0\n74    599.0\n84    277.0\n94    239.0\nName: 6, dtype: float64\n4     935.0\n14    877.0\n24    413.0\n34    985.0\n44    180.0\n54    331.0\n64    335.0\n74    751.0\n84    366.0\n94    930.0\nName: 7, dtype: float64\n4     181.0\n14    109.0\n24    523.0\n34    298.0\n44    957.0\n54    676.0\n64    441.0\n74    321.0\n84    939.0\n94    415.0\nName: 8, dtype: float64\n4     580.0\n14    947.0\n24    546.0\n34    287.0\n44    545.0\n54    367.0\n64    495.0\n74     23.0\n84     59.0\n94    256.0\nName: 9, dtype: float64\n4     4016\n14    4016\n24    4016\n34    4016\n44    4016\n54    4016\n64    4016\n74    4016\n84    4016\n94    4016\nName: Id, dtype: int64\n11 rows successfully written (PdfbRIS15w)\n",
          "name": "stdout"
        }
      ]
    }
  ]
}