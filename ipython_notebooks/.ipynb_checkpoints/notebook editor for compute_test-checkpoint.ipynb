{
  "metadata": {
    "kernelspec": {
      "name": "python3",
      "display_name": "Python 3",
      "language": "python"
    },
    "associatedRecipe": "compute_test",
    "dkuGit": {
      "lastInteraction": 0
    },
    "creationTag": {
      "versionNumber": 0,
      "lastModifiedBy": {
        "login": "admin"
      },
      "lastModifiedOn": 1656087967884
    },
    "creator": "admin",
    "createdOn": 1656087967884,
    "tags": [
      "recipe-editor"
    ],
    "customFields": {},
    "hide_input": false,
    "language_info": {
      "name": "python",
      "version": "3.6.15",
      "mimetype": "text/x-python",
      "codemirror_mode": {
        "name": "ipython",
        "version": 3
      },
      "pygments_lexer": "ipython3",
      "nbconvert_exporter": "python",
      "file_extension": ".py"
    },
    "modifiedBy": "admin"
  },
  "nbformat": 4,
  "nbformat_minor": 1,
  "cells": [
    {
      "execution_count": 0,
      "cell_type": "code",
      "metadata": {},
      "source": [
        "# -*- coding: utf-8 -*-\nimport dataiku\nimport pandas as pd, numpy as np\nfrom dataiku import pandasutils as pdu\n\n# create an empty dataset with ID column\n\n# dummy_data \u003d pd.DataFrame(np.random.rand(100, 10))\n# dummy_data[\u0027Id\u0027] \u003d list(range(10))*10\n\n# # # save it to the dataframe\n# inp \u003d dataiku.Dataset(\"test\")\n# inp.write_with_schema(dummy_data)"
      ],
      "outputs": []
    },
    {
      "execution_count": 0,
      "cell_type": "code",
      "metadata": {},
      "source": [
        "# Read recipe inputs and take the input schema to output dataset\n\ninp \u003d dataiku.Dataset(\"test\")\nout \u003d dataiku.Dataset(\"output\")\nout.write_schema_from_dataframe(inp.get_dataframe())"
      ],
      "outputs": []
    },
    {
      "execution_count": 0,
      "cell_type": "code",
      "metadata": {},
      "source": [
        "count \u003d 0 \nwith out.get_writer() as writer:\n    \n    for df in inp.iter_dataframes(chunksize\u003d10): # access the input dataset in the chunks of 10 rows \n        count +\u003d 1\n        # Make some changes for the columns in the chunk\n        tmp \u003d df.copy() \n        tmp[\u0027Id\u0027] \u003d tmp[\u0027Id\u0027]+1000 # increment the Id by chunk number\n        tmp.iloc[0:10] \u003d np.round(tmp.iloc[0:10] )\n\n        print(tmp.head())\n        writer.write_dataframe(tmp)"
      ],
      "outputs": []
    },
    {
      "execution_count": 0,
      "cell_type": "code",
      "metadata": {},
      "source": [
        "# for some of the IDs we want to replace the content\n# for i in range(5):\n\n# #    tmp \u003d dummy_data[dummy_data[\u0027Id\u0027] \u003d\u003d i] * i\n#     tmp \u003d np.round(dummy_data[dummy_data[\u0027Id\u0027] \u003d\u003d i] * (i+1000))\n\n#     with dataiku.Dataset(\"test\").get_writer() as writer:\n\n#         for (origin,count) in tmp.items():\n#             print(count)\n\n#             writer.write_row_array((origin,count))"
      ],
      "outputs": []
    }
  ]
}