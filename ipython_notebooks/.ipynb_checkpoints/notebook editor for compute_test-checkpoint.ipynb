{
  "nbformat": 4,
  "nbformat_minor": 0,
  "metadata": {
    "kernelspec": {
      "display_name": "Python 3",
      "language": "python",
      "name": "python3"
    },
    "associatedRecipe": "compute_test",
    "dkuGit": {
      "lastInteraction": 0
    },
    "creationTag": {
      "versionNumber": 0,
      "lastModifiedBy": {
        "login": "admin"
      },
      "lastModifiedOn": 1656087967884
    },
    "creator": "admin",
    "createdOn": 1656087967884,
    "tags": [
      "recipe-editor"
    ],
    "customFields": {}
  },
  "cells": [
    {
      "cell_type": "code",
      "metadata": {},
      "outputs": [],
      "execution_count": 0,
      "source": [
        "# -*- coding: utf-8 -*-\n",
        "import dataiku\n",
        "import pandas as pd, numpy as np\n",
        "from dataiku import pandasutils as pdu"
      ]
    },
    {
      "cell_type": "code",
      "metadata": {},
      "outputs": [],
      "execution_count": 0,
      "source": [
        "# Read recipe inputs and take the input schema to output dataset\n",
        "\n",
        "inp \u003d dataiku.Dataset(\"input\")\n",
        "out \u003d dataiku.Dataset(\"output\")\n",
        "out.write_schema_from_dataframe(inp.get_dataframe())"
      ]
    },
    {
      "cell_type": "code",
      "metadata": {},
      "outputs": [],
      "execution_count": 0,
      "source": [
        "count \u003d 0\n",
        "with out.get_writer() as writer:\n",
        "\n",
        "    for df in inp.iter_dataframes(chunksize\u003d10): # access the input dataset in the chunks of 10 rows\n",
        "        count +\u003d 1\n",
        "        print(count)\n",
        "        # Make some changes for the columns in the chunk\n",
        "        tmp \u003d df.copy()\n",
        "        tmp[\u0027Id\u0027] \u003d tmp[\u0027Id\u0027]+1000 # increment the Id by 1000\n",
        "        tmp.iloc[0:10] \u003d np.round(tmp.iloc[0:10] )\n",
        "\n",
        "#          print(tmp.head())\n",
        "        writer.write_dataframe(tmp)"
      ]
    }
  ]
}