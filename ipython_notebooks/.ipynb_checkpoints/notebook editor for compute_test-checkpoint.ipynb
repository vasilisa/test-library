{
  "metadata": {
    "kernelspec": {
      "name": "python3",
      "display_name": "Python 3",
      "language": "python"
    },
    "associatedRecipe": "compute_test",
    "creator": "admin",
    "createdOn": 1656087967884,
    "tags": [
      "recipe-editor"
    ],
    "customFields": {},
    "hide_input": false,
    "language_info": {
      "name": "python",
      "version": "3.6.15",
      "mimetype": "text/x-python",
      "codemirror_mode": {
        "name": "ipython",
        "version": 3
      },
      "pygments_lexer": "ipython3",
      "nbconvert_exporter": "python",
      "file_extension": ".py"
    },
    "modifiedBy": "admin"
  },
  "nbformat": 4,
  "nbformat_minor": 1,
  "cells": [
    {
      "execution_count": 0,
      "cell_type": "code",
      "metadata": {},
      "source": [
        "# -*- coding: utf-8 -*-\nimport dataiku\nimport pandas as pd, numpy as np\nfrom dataiku import pandasutils as pdu\n\n# create an empty dataset with ID column \n\ndummy_data \u003d pd.DataFrame(np.random.rand(100, 10))\ndummy_data[\u0027Id\u0027] \u003d list(range(10))*10\n\n# save it to the dataframe \ntest_ds \u003d dataiku.Dataset(\"test_ds\")\ntest_ds.write_with_schema(dummy_data)\n\n# -------------------------------------------------------------------------------- NOTEBOOK-CELL: CODE\n# for some of the IDs we want to replace the content \nfor i in range(5):\n\n#    tmp \u003d dummy_data[dummy_data[\u0027Id\u0027] \u003d\u003d i] * i\n    tmp \u003d np.round(dummy_data[dummy_data[\u0027Id\u0027] \u003d\u003d i] * (i+1000))\n\n    with dataiku.Dataset(\"test_ds\").get_writer() as writer:\n\n        for (origin,count) in tmp.items():\n            print(count)\n\n            writer.write_row_array((origin,count))\n\n# Write recipe outputs\ntest \u003d dataiku.Dataset(\"test\")\ntest.write_with_schema(test_df)"
      ],
      "outputs": []
    }
  ]
}